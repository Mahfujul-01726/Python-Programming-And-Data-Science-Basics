{
 "cells": [
  {
   "cell_type": "code",
   "execution_count": 3,
   "metadata": {},
   "outputs": [
    {
     "name": "stdout",
     "output_type": "stream",
     "text": [
      "Python and Data Science\n",
      "mahfujul Karim\n"
     ]
    }
   ],
   "source": [
    "# Python expression\n",
    "\n",
    "print(\"Python and Data Science\")\n",
    "print(\"mahfujul Karim\")"
   ]
  },
  {
   "cell_type": "code",
   "execution_count": 4,
   "metadata": {},
   "outputs": [
    {
     "ename": "IndentationError",
     "evalue": "unexpected indent (948263254.py, line 6)",
     "output_type": "error",
     "traceback": [
      "\u001b[1;36m  Cell \u001b[1;32mIn[4], line 6\u001b[1;36m\u001b[0m\n\u001b[1;33m    print(\"Khulna University\")\u001b[0m\n\u001b[1;37m    ^\u001b[0m\n\u001b[1;31mIndentationError\u001b[0m\u001b[1;31m:\u001b[0m unexpected indent\n"
     ]
    }
   ],
   "source": [
    "# Python Identation\n",
    "\n",
    "print(\"Python and Data Science\")\n",
    "print(\"Mahfujul Karim\")\n",
    "\n",
    "     print(\"Khulna University\")"
   ]
  },
  {
   "cell_type": "code",
   "execution_count": null,
   "metadata": {},
   "outputs": [
    {
     "name": "stdout",
     "output_type": "stream",
     "text": [
      "Hello, World!\n",
      "Hello, World\n"
     ]
    }
   ],
   "source": [
    "# Python commments\n",
    "\n",
    "print(\"Hello, World!\")  # This is a comment\n",
    "\n",
    "\"\"\"\n",
    "This is a comment written in more than just one line\n",
    "\"\"\"\n",
    "\n",
    "print(\"Hello, World\")"
   ]
  },
  {
   "cell_type": "code",
   "execution_count": null,
   "metadata": {},
   "outputs": [
    {
     "name": "stdout",
     "output_type": "stream",
     "text": [
      "2\n",
      "mahfuj\n",
      "2.55\n"
     ]
    }
   ],
   "source": [
    "# Variable\n",
    "\n",
    "x=2\n",
    "s=\"mahfuj\"\n",
    "f=2.55\n",
    "\n",
    "print(x)\n",
    "print(s)\n",
    "print(f)"
   ]
  },
  {
   "cell_type": "code",
   "execution_count": null,
   "metadata": {},
   "outputs": [
    {
     "name": "stdout",
     "output_type": "stream",
     "text": [
      "14\n"
     ]
    }
   ],
   "source": [
    "# Arithmetic Expression\n",
    "\n",
    "result=2+3*4\n",
    "print(result)"
   ]
  },
  {
   "cell_type": "code",
   "execution_count": null,
   "metadata": {},
   "outputs": [
    {
     "name": "stdout",
     "output_type": "stream",
     "text": [
      "5.0\n"
     ]
    }
   ],
   "source": [
    "# Funciton call\n",
    "\n",
    "import math\n",
    "y=math.sqrt(25)\n",
    "print(y)"
   ]
  },
  {
   "cell_type": "code",
   "execution_count": null,
   "metadata": {},
   "outputs": [
    {
     "name": "stdout",
     "output_type": "stream",
     "text": [
      "Positive\n"
     ]
    }
   ],
   "source": [
    "# Python Statement(CS:(if-elif-else))\n",
    "\n",
    "if x>0:\n",
    "    print(\"Positive\")\n",
    "elif x==0:\n",
    "    print(\"Zero\")\n",
    "else:\n",
    "    print(\"Negative\")\n"
   ]
  },
  {
   "cell_type": "code",
   "execution_count": null,
   "metadata": {},
   "outputs": [
    {
     "name": "stdout",
     "output_type": "stream",
     "text": [
      "0\n",
      "1\n",
      "2\n",
      "3\n",
      "4\n"
     ]
    }
   ],
   "source": [
    "# loop statement(for and while)\n",
    "\n",
    "for i in range(5):\n",
    "    print(i)"
   ]
  },
  {
   "cell_type": "code",
   "execution_count": null,
   "metadata": {},
   "outputs": [
    {
     "name": "stdout",
     "output_type": "stream",
     "text": [
      "Hello,Alice!\n"
     ]
    }
   ],
   "source": [
    "# Functional statement\n",
    "\n",
    "def greet(name):\n",
    "    print(\"Hello,\"+name+\"!\")\n",
    "    \n",
    "greet(\"Alice\")"
   ]
  },
  {
   "cell_type": "code",
   "execution_count": null,
   "metadata": {},
   "outputs": [
    {
     "name": "stdout",
     "output_type": "stream",
     "text": [
      "Pythonisawesome\n",
      "Python is awesome\n"
     ]
    }
   ],
   "source": [
    "# Back to print\n",
    "\n",
    "x=\"Python\"\n",
    "y=\"is\"\n",
    "z=\"awesome\"\n",
    "\n",
    "print(x+y+z)\n",
    "print(x,y,z)"
   ]
  },
  {
   "cell_type": "code",
   "execution_count": null,
   "metadata": {},
   "outputs": [
    {
     "name": "stdout",
     "output_type": "stream",
     "text": [
      "This is class number: 1\n",
      "Geeks :  1, Portal : 45000.33\n",
      "Total students : 240, Boys : 120\n",
      "    031\n",
      " 3.561E+02\n",
      "I have 55.25 take\n"
     ]
    }
   ],
   "source": [
    "print(\"This is class number: %d\" %1)\n",
    "\n",
    "print(\"Geeks : %2d, Portal : %5.2f\" % (1, 45000.333)) \n",
    " \n",
    "print(\"Total students : %3d, Boys : %2d\" % (240, 120))   # print integer value\n",
    " \n",
    "print(\"%7.3o\" % (25))   # print octal value\n",
    " \n",
    "print(\"%10.3E\" % (356.08977))   # print exponential value\n",
    "\n",
    "T = 55.25\n",
    "\n",
    "print (\"I have \"+ str(T) + \" take\")\n"
   ]
  },
  {
   "cell_type": "code",
   "execution_count": null,
   "metadata": {},
   "outputs": [
    {
     "name": "stdout",
     "output_type": "stream",
     "text": [
      "I love Geeks for \"Geeks!\"\n",
      "Geeks and Portal\n",
      "Portal and Geeks\n"
     ]
    }
   ],
   "source": [
    "print('I love {} for \"{}!\"'.format('Geeks', 'Geeks'))\n",
    " \n",
    "# using format() method and referring a position of the object\n",
    "print('{0} and {1}'.format('Geeks', 'Portal'))\n",
    " \n",
    "print('{1} and {0}'.format('Geeks', 'Portal'))\n"
   ]
  },
  {
   "cell_type": "code",
   "execution_count": null,
   "metadata": {},
   "outputs": [
    {
     "name": "stdout",
     "output_type": "stream",
     "text": [
      "Number one portal is Geeks, 55.55, and Geeks.\n",
      "Geeks :12, Portal :    0.55\n",
      "Second argument:  11, first one:   47.42\n",
      "Geeks:   453,  Portal:    59.06\n"
     ]
    }
   ],
   "source": [
    "# combining positional and keyword arguments\n",
    "print('Number one portal is {0}, {1}, and {other}.'\n",
    "     .format('Geeks', 55.55, other ='Geeks'))\n",
    " \n",
    "# using format() method with number \n",
    "print(\"Geeks :{0:2d}, Portal :{1:8.2f}\".\n",
    "      format(12, 00.546))\n",
    " \n",
    "# Changing positional argument\n",
    "print(\"Second argument: {1:3d}, first one: {0:7.2f}\".\n",
    "      format(47.42, 11))\n",
    " \n",
    "print(\"Geeks: {a:5d},  Portal: {p:8.2f}\".\n",
    "     format(a = 453, p = 59.058))\n"
   ]
  },
  {
   "cell_type": "code",
   "execution_count": null,
   "metadata": {},
   "outputs": [
    {
     "name": "stdout",
     "output_type": "stream",
     "text": [
      "Orange\n",
      "Banana\n",
      "Cherry\n"
     ]
    }
   ],
   "source": [
    "# Assign multiple values\n",
    "x,y,z=\"Orange\", \"Banana\",\"Cherry\"\n",
    "\n",
    "print(x)\n",
    "print(y)\n",
    "print(z)"
   ]
  },
  {
   "cell_type": "code",
   "execution_count": null,
   "metadata": {},
   "outputs": [
    {
     "name": "stdout",
     "output_type": "stream",
     "text": [
      "apple\n",
      "banana\n",
      "cherry\n"
     ]
    }
   ],
   "source": [
    "fruits=[\"apple\",\"banana\",\"cherry\"]\n",
    "x,y,z=fruits\n",
    "\n",
    "print(x)\n",
    "print(y)\n",
    "print(z)"
   ]
  },
  {
   "cell_type": "code",
   "execution_count": 5,
   "metadata": {},
   "outputs": [
    {
     "name": "stdout",
     "output_type": "stream",
     "text": [
      "Username is :mahfujul\n"
     ]
    }
   ],
   "source": [
    "# User input\n",
    "\n",
    "username=input(\"Enter username:\")\n",
    "print(\"Username is :\"+ username)"
   ]
  },
  {
   "cell_type": "code",
   "execution_count": 6,
   "metadata": {},
   "outputs": [
    {
     "name": "stdout",
     "output_type": "stream",
     "text": [
      "Python isfantastic\n",
      "Python is awesome\n"
     ]
    }
   ],
   "source": [
    "# Scope of vairables\n",
    "\n",
    "x=\"awesome\"\n",
    "\n",
    "def myfunc():\n",
    "    x=\"fantastic\"\n",
    "    print(\"Python is\"+x)\n",
    "    \n",
    "myfunc()\n",
    "\n",
    "print(\"Python is \"+ x)"
   ]
  },
  {
   "cell_type": "code",
   "execution_count": 7,
   "metadata": {},
   "outputs": [
    {
     "name": "stdout",
     "output_type": "stream",
     "text": [
      "Python is fantastic\n"
     ]
    }
   ],
   "source": [
    "def myfunc():\n",
    "    global x\n",
    "    x=\"fantastic\"\n",
    "    \n",
    "myfunc()\n",
    "\n",
    "print(\"Python is \"+x)"
   ]
  },
  {
   "cell_type": "code",
   "execution_count": 8,
   "metadata": {},
   "outputs": [
    {
     "name": "stdout",
     "output_type": "stream",
     "text": [
      "5\n"
     ]
    }
   ],
   "source": [
    "# Try out\n",
    "\n",
    "#q1: Input a number and print\n",
    "\n",
    "x=5\n",
    "print(x)"
   ]
  },
  {
   "cell_type": "code",
   "execution_count": 9,
   "metadata": {},
   "outputs": [
    {
     "name": "stdout",
     "output_type": "stream",
     "text": [
      "1451.15\n"
     ]
    }
   ],
   "source": [
    "# Q2: Input a number 1451.1545 into the variable and output only two decimal values\n",
    "\n",
    "x=1451.1545\n",
    "y=round(x,2)\n",
    "print(y)\n"
   ]
  },
  {
   "cell_type": "code",
   "execution_count": 10,
   "metadata": {},
   "outputs": [
    {
     "name": "stdout",
     "output_type": "stream",
     "text": [
      "mahfujulKarim735\n"
     ]
    }
   ],
   "source": [
    "# Q3: Take two strings and an integer . Print a single string\n",
    "\n",
    "x=\"mahfujul\"\n",
    "y=\"Karim\"\n",
    "z=int(735)\n",
    "m=x+y+str(z)\n",
    "print(m)\n"
   ]
  },
  {
   "cell_type": "code",
   "execution_count": null,
   "metadata": {},
   "outputs": [],
   "source": []
  }
 ],
 "metadata": {
  "kernelspec": {
   "display_name": "Python 3",
   "language": "python",
   "name": "python3"
  },
  "language_info": {
   "codemirror_mode": {
    "name": "ipython",
    "version": 3
   },
   "file_extension": ".py",
   "mimetype": "text/x-python",
   "name": "python",
   "nbconvert_exporter": "python",
   "pygments_lexer": "ipython3",
   "version": "3.12.3"
  }
 },
 "nbformat": 4,
 "nbformat_minor": 2
}
