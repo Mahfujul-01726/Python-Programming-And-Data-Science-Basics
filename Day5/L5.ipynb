{
 "cells": [
  {
   "cell_type": "code",
   "execution_count": 1,
   "metadata": {},
   "outputs": [
    {
     "name": "stdout",
     "output_type": "stream",
     "text": [
      "30 Alice 3.12159\n"
     ]
    }
   ],
   "source": [
    "# Pyhton Variable\n",
    "\n",
    "age=30\n",
    "name=\"Alice\"\n",
    "pi=3.12159\n",
    "print(age, name, pi)"
   ]
  },
  {
   "cell_type": "code",
   "execution_count": 4,
   "metadata": {},
   "outputs": [
    {
     "name": "stdout",
     "output_type": "stream",
     "text": [
      "10 10 Okay\n",
      "10 10 10\n"
     ]
    }
   ],
   "source": [
    "# Variable Features\n",
    "\n",
    "num1=5\n",
    "num1=3.55\n",
    "\n",
    "num1,num2,stri=4,5,\"Okay\"\n",
    "num1=num2=num3=10\n",
    "\n",
    "print(num1,num2,stri)\n",
    "print(num1,num2,num3)"
   ]
  },
  {
   "cell_type": "code",
   "execution_count": 8,
   "metadata": {},
   "outputs": [
    {
     "name": "stdout",
     "output_type": "stream",
     "text": [
      "140720259341016\n"
     ]
    }
   ],
   "source": [
    "# Delete Variable\n",
    "\n",
    "num1=10\n",
    "print(id(num1))\n",
    "\n",
    "del num1\n",
    "#print(num1)"
   ]
  },
  {
   "cell_type": "code",
   "execution_count": 9,
   "metadata": {},
   "outputs": [
    {
     "name": "stdout",
     "output_type": "stream",
     "text": [
      "apple\n",
      "banana\n",
      "cherry\n"
     ]
    }
   ],
   "source": [
    "#Try out\n",
    "# Multiple Variabe Assignments\n",
    "\n",
    "fruits=[\"apple\",\"banana\",\"cherry\"]\n",
    "x,y,z=fruits\n",
    "print(x)\n",
    "print(y)\n",
    "print(z)\n"
   ]
  },
  {
   "cell_type": "code",
   "execution_count": 10,
   "metadata": {},
   "outputs": [
    {
     "name": "stdout",
     "output_type": "stream",
     "text": [
      "60\n",
      "50\n"
     ]
    }
   ],
   "source": [
    "# 5. Delete a variable\n",
    "\n",
    "x=10\n",
    "y=20\n",
    "z=30\n",
    "p=x+y+z\n",
    "print(p)\n",
    "\n",
    "del x\n",
    "\n",
    "p1=y+z\n",
    "\n",
    "print(p1)"
   ]
  },
  {
   "cell_type": "code",
   "execution_count": 11,
   "metadata": {},
   "outputs": [
    {
     "name": "stdout",
     "output_type": "stream",
     "text": [
      "1\n",
      "2\n",
      "3\n",
      "\n",
      "\n",
      "1.0\n",
      "2.8\n",
      "3.0\n",
      "4.2\n",
      "\n",
      "\n",
      "s1\n",
      "2\n",
      "3.0\n"
     ]
    }
   ],
   "source": [
    "# Casting \n",
    "\n",
    "x=int(1)\n",
    "y=int(2.8)\n",
    "z=int(\"3\")\n",
    "print(x)\n",
    "print(y)\n",
    "print(z)\n",
    "\n",
    "x=float(1)\n",
    "y=float(2.8)\n",
    "z=float(\"3\")\n",
    "w=float(\"4.2\")\n",
    "\n",
    "print(\"\\n\")  # print new line\n",
    "print(x)\n",
    "print(y)\n",
    "print(z)\n",
    "print(w)\n",
    "\n",
    "x=str(\"s1\")\n",
    "y=str(2)\n",
    "z=str(3.0)\n",
    "\n",
    "print(\"\\n\")\n",
    "print(x)\n",
    "print(y)\n",
    "print(z)"
   ]
  },
  {
   "cell_type": "code",
   "execution_count": 13,
   "metadata": {},
   "outputs": [
    {
     "name": "stdout",
     "output_type": "stream",
     "text": [
      "This is a string that spans multiple lines.\n",
      "H !\n",
      "ython\n",
      "yhnl\n"
     ]
    }
   ],
   "source": [
    "# String Foramtting and Functions\n",
    "\n",
    "message='Hello, world!'  # single quotes\n",
    "name=\"Alice\"\n",
    "multiline_text=\"\"\"This is a string that spans multiple lines.\"\"\"  #Triple quotes\n",
    "\n",
    "print(multiline_text)\n",
    "\n",
    "# Accessing Characters\n",
    "\n",
    "first_letter=message[0]\n",
    "last_letter=message[-1]\n",
    "print(first_letter, last_letter)\n",
    "\n",
    "#Slicing\n",
    "# Syntax:[start:end:step]\n",
    "\n",
    "message=\"PythonClass\"\n",
    "substring=message[1:6]\n",
    "print(substring)\n",
    "\n",
    "substring=message[1:8:2]\n",
    "print(substring)\n"
   ]
  },
  {
   "cell_type": "code",
   "execution_count": 17,
   "metadata": {},
   "outputs": [
    {
     "name": "stdout",
     "output_type": "stream",
     "text": [
      "Amount: 123\n",
      "Currency: $\n",
      "Amount: 456\n",
      "Currency: £\n",
      "Amount: 789\n",
      "Currency: ¥\n"
     ]
    }
   ],
   "source": [
    "# Try out : A Dataset contains strings in a column. The last character of the sentence contains the currency type. And 5th,6th, and 7th letters contain the amount of money. Can you extract it?\n",
    "\n",
    "data = [\n",
    "    \"AUSD123$\",\n",
    "    \"BGBP456£\",\n",
    "    \"CJPY789¥\"\n",
    "]\n",
    "\n",
    "for entry in data:\n",
    "    amount=entry[4:7]\n",
    "    currency=entry[-1]\n",
    "    print(\"Amount:\", amount)\n",
    "    print(\"Currency:\", currency)\n"
   ]
  },
  {
   "cell_type": "code",
   "execution_count": 18,
   "metadata": {},
   "outputs": [
    {
     "name": "stdout",
     "output_type": "stream",
     "text": [
      "HELLO WORLD Hello World\n",
      "Hello Python\n"
     ]
    }
   ],
   "source": [
    "# string\n",
    "#Try Out\n",
    "\n",
    "message=\"Hello World\"\n",
    "uppercase_message=message.upper()\n",
    "replaced_message=message.replace(\"world\", \"Python\")\n",
    "print(uppercase_message, replaced_message)\n",
    "replaced_message=message.replace(\"World\", \"Python\")\n",
    "print(replaced_message)\n"
   ]
  },
  {
   "cell_type": "code",
   "execution_count": 25,
   "metadata": {},
   "outputs": [
    {
     "name": "stdout",
     "output_type": "stream",
     "text": [
      "HELLO WORLD Hello World\n",
      "Hello Python\n"
     ]
    }
   ],
   "source": [
    "# string\n",
    "#Try Out\n",
    "\n",
    "message=\"Hello World\"\n",
    "uppercase_message=message.upper()\n",
    "replaced_message=message.replace(\"world\", \"Python\")\n",
    "print(uppercase_message, replaced_message)\n",
    "replaced_message=message.replace(\"World\", \"Python\")\n",
    "print(replaced_message)\n"
   ]
  },
  {
   "cell_type": "code",
   "execution_count": 26,
   "metadata": {},
   "outputs": [
    {
     "name": "stdout",
     "output_type": "stream",
     "text": [
      "Hello, Bob! You are 30 years old.\n"
     ]
    }
   ],
   "source": [
    "name = \"Bob\"\n",
    "age = 30\n",
    "formatted_text = f\"Hello, {name}! You are {age} years old.\"\n",
    "print(formatted_text)\n"
   ]
  },
  {
   "cell_type": "code",
   "execution_count": 27,
   "metadata": {},
   "outputs": [
    {
     "name": "stdout",
     "output_type": "stream",
     "text": [
      "Mahfujul Karim\n",
      "MAHFUJUL KARIM\n",
      "mahfujul karim\n"
     ]
    }
   ],
   "source": [
    "name = \"Mahfujul Karim\" \n",
    "print(name.title())\n",
    "print(name.upper())\n",
    "print(name.lower())"
   ]
  },
  {
   "cell_type": "code",
   "execution_count": 28,
   "metadata": {},
   "outputs": [
    {
     "name": "stdout",
     "output_type": "stream",
     "text": [
      "Hello, World!\n",
      "Hello, World! \n",
      " Hello, World!\n"
     ]
    }
   ],
   "source": [
    "# String Space Removal\n",
    "\n",
    "message=\" Hello, World! \"\n",
    "\n",
    "#Reomve all leading/trailing whitespaces\n",
    "\n",
    "stripped_message=message.strip()\n",
    "print(stripped_message)\n",
    "\n",
    "#Reomve leading whitespaces\n",
    "\n",
    "left_stripped_message=message.lstrip()\n",
    "print(left_stripped_message)\n",
    "\n",
    "#Remove trailing whitespaces\n",
    "\n",
    "right_stripped_message=message.rstrip()\n",
    "print(right_stripped_message)\n"
   ]
  },
  {
   "cell_type": "code",
   "execution_count": 29,
   "metadata": {},
   "outputs": [
    {
     "name": "stdout",
     "output_type": "stream",
     "text": [
      "17\n",
      "17\n"
     ]
    }
   ],
   "source": [
    "# String Search\n",
    "\n",
    "message=\"Hello, brave new world!\"\n",
    "\n",
    "#Find the index of the first occurrence of \"world\"\n",
    "\n",
    "world_index=message.find(\"world\")\n",
    "print(world_index)\n",
    "\n",
    "#Find the index of the last occurrence of \"world\"\n",
    "\n",
    "last_world_index=message.rfind(\"world\")\n",
    "print(last_world_index)"
   ]
  },
  {
   "cell_type": "code",
   "execution_count": 30,
   "metadata": {},
   "outputs": [
    {
     "name": "stdout",
     "output_type": "stream",
     "text": [
      "['Hello,', 'how', 'are', 'you', 'today?']\n",
      "['I am Mahfuj ', \" I'm taking your class\"]\n",
      "I am Mahfuj _ I'm taking your class\n"
     ]
    }
   ],
   "source": [
    "# String Split and Join\n",
    "\n",
    "message=\"Hello, how are you today?\"\n",
    "\n",
    "#Split the string into words using spaces as separator\n",
    "\n",
    "words=message.split(\" \")\n",
    "print(words)\n",
    "\n",
    "message2=\"I am Mahfuj $ I'm taking your class\"\n",
    "words=message2.split(\"$\")\n",
    "print(words)\n",
    "\n",
    "#Join the words back into a string with underscores\n",
    "\n",
    "joined_message=\"_\".join(words)\n",
    "print(joined_message)"
   ]
  },
  {
   "cell_type": "code",
   "execution_count": 31,
   "metadata": {},
   "outputs": [
    {
     "name": "stdout",
     "output_type": "stream",
     "text": [
      "Hi, thwas was a test string\n",
      "Hi, thwas is a test string\n"
     ]
    }
   ],
   "source": [
    "# String Replacement\n",
    "\n",
    "message=\"Hi, this is a test string\"\n",
    "\n",
    "# Replace all occurrences of \"is\" with \"was\"\n",
    "\n",
    "replaced_message=message.replace(\"is\",\"was\")\n",
    "print(replaced_message)\n",
    "\n",
    "# Replace only the first occurrence\n",
    "\n",
    "replaced_message=message.replace(\"is\", \"was\", 1)\n",
    "print(replaced_message)"
   ]
  },
  {
   "cell_type": "code",
   "execution_count": 32,
   "metadata": {},
   "outputs": [
    {
     "name": "stdout",
     "output_type": "stream",
     "text": [
      "Hello,Words,Python\n",
      "['Hello', 'Words', 'Python']\n"
     ]
    }
   ],
   "source": [
    "def join_split_words(words_list, delimiter):\n",
    "    connected = delimiter.join(words_list)\n",
    "    print(connected)  # Corrected typo here\n",
    "    disconnected = connected.split(delimiter)\n",
    "    return disconnected\n",
    "\n",
    "words_list = [\"Hello\", \"Words\", \"Python\"]\n",
    "delimiter = \",\"\n",
    "result = join_split_words(words_list, delimiter)\n",
    "print(result)\n"
   ]
  },
  {
   "cell_type": "code",
   "execution_count": 33,
   "metadata": {},
   "outputs": [
    {
     "name": "stdout",
     "output_type": "stream",
     "text": [
      "\n",
      "\n",
      "list1[0]: physics\n",
      "list2[1:5]: [2, 3, 4, 5]\n",
      "\n",
      "\n",
      "Value available at index 2: \n",
      "1997\n",
      "New value available at index 2: \n",
      "2001\n",
      "\n",
      "\n",
      "['physics', 'chemistry', 1997, 2000]\n",
      "After deleting value at index 2: \n",
      "['physics', 'chemistry', 2000]\n",
      "\n",
      "\n",
      "pecialized\n",
      "\n",
      "\n",
      "['trek', 'cannondale', 'redline', 'pecialized', 'Duranta']\n",
      "\n",
      "\n",
      "['trek', 'cannondale', 'redline', 'Racer', 'pecialized', 'Duranta']\n"
     ]
    }
   ],
   "source": [
    "list1=[\"Rohan\",\"Physics\",21,69,75]\n",
    "list2=[1,2,34,5]\n",
    "list3=[\"a\",\"b\",\"c\",\"d\"]\n",
    "list4=[20.50,True,-55,1+2j]\n",
    "print(\"\\n\")\n",
    "#access\n",
    "list1=['physics','chemistry',1997,2000];\n",
    "list2=[1,2,3,4,5,6,7]\n",
    "print(\"list1[0]:\",list1[0])\n",
    "print(\"list2[1:5]:\",list2[1:5])\n",
    "print(\"\\n\")\n",
    "#Update\n",
    "list=['physics','chemistry',1997,2000];\n",
    "print(\"Value available at index 2: \")\n",
    "print(list[2])\n",
    "list[2]=2001;\n",
    "print(\"New value available at index 2: \")\n",
    "print(list[2])\n",
    "print(\"\\n\")\n",
    "\n",
    "#Delete\n",
    "\n",
    "list1=['physics','chemistry',1997,2000];\n",
    "print(list1)\n",
    "del list1[2];\n",
    "print(\"After deleting value at index 2: \")\n",
    "print(list1)\n",
    "print(\"\\n\")\n",
    "\n",
    "# Negative Access??\n",
    "\n",
    "bicycles=['trek','cannondale','redline','pecialized']\n",
    "print(bicycles[-1])\n",
    "print(\"\\n\")\n",
    "\n",
    "#Insert vs Append\n",
    "\n",
    "bicycles.append(\"Duranta\")\n",
    "print(bicycles)\n",
    "print(\"\\n\")\n",
    "\n",
    "bicycles.insert(3,\"Racer\")\n",
    "print(bicycles)"
   ]
  },
  {
   "cell_type": "code",
   "execution_count": 34,
   "metadata": {},
   "outputs": [
    {
     "name": "stdout",
     "output_type": "stream",
     "text": [
      "[1, 2, 3, 4, 5]\n",
      "\n",
      "\n",
      "[1, 2, 3, 4, 5, 6]\n",
      "\n",
      "\n",
      "[1, 2, 3, 4, 5, 6, 7]\n",
      "\n",
      "\n",
      "[1, 2, 3, 4, 5, 6]\n"
     ]
    }
   ],
   "source": [
    "# Try Out\n",
    "# Insert, Append in a Python List\n",
    "\n",
    "list=[1,2,3,4,5]\n",
    "print(list)\n",
    "print(\"\\n\")\n",
    "\n",
    "list.insert(5,6)\n",
    "print(list)\n",
    "print(\"\\n\")\n",
    "\n",
    "list.append(7)\n",
    "print(list)\n",
    "print(\"\\n\")\n",
    "# Delete values from a list\n",
    "\n",
    "del list[6]\n",
    "print(list)"
   ]
  },
  {
   "cell_type": "code",
   "execution_count": 35,
   "metadata": {},
   "outputs": [
    {
     "name": "stdout",
     "output_type": "stream",
     "text": [
      "value is found in the list\n",
      "value 5 remove from the list\n",
      "Updated list: [1, 2, 3, 4]\n"
     ]
    }
   ],
   "source": [
    "# Search and delete a value from a Python list\n",
    "\n",
    "list=[1,2,3,4,5]\n",
    "value=5\n",
    "\n",
    "if value in list:\n",
    "    list.remove(value)\n",
    "    print(\"value is found in the list\")\n",
    "    print(\"value\", value,\"remove from the list\")\n",
    "else:\n",
    "    print(\"value is not found in the list\")\n",
    "    \n",
    "print(\"Updated list:\", list)\n"
   ]
  },
  {
   "cell_type": "code",
   "execution_count": 36,
   "metadata": {},
   "outputs": [
    {
     "name": "stdout",
     "output_type": "stream",
     "text": [
      "['banana', 'cherry']\n",
      "cherry\n"
     ]
    }
   ],
   "source": [
    "# Slice and Pop\n",
    "\n",
    "fruits=[\"apple\",\"banana\",\"cherry\"]\n",
    "sublist=fruits[1:3]\n",
    "print(sublist)\n",
    "\n",
    "removed_fruit=fruits.pop(2)\n",
    "print(removed_fruit)"
   ]
  },
  {
   "cell_type": "markdown",
   "metadata": {},
   "source": [
    "# List Functions"
   ]
  },
  {
   "cell_type": "code",
   "execution_count": 37,
   "metadata": {},
   "outputs": [
    {
     "name": "stdout",
     "output_type": "stream",
     "text": [
      "[11, 22, 33, 44, 66, 77, 88, 99]\n",
      "[11, 22, 33, 44, 66, 77, 88, 99]\n"
     ]
    }
   ],
   "source": [
    "my_list=[66,33,22,44,88,77,99,11]\n",
    "my_list2=sorted(my_list)\n",
    "print(my_list2)\n",
    "\n",
    "my_list.sort()\n",
    "print(my_list)"
   ]
  },
  {
   "cell_type": "code",
   "execution_count": 38,
   "metadata": {},
   "outputs": [
    {
     "name": "stdout",
     "output_type": "stream",
     "text": [
      "[1, 2, 3, 4]\n",
      "\n",
      "\n",
      "[4, 3, 2, 1]\n",
      "\n",
      "\n",
      "['aa', 'ccc', 'bbbb']\n"
     ]
    }
   ],
   "source": [
    "# Sort\n",
    "\n",
    "numbers=[3,1,4,2]\n",
    "numbers.sort()\n",
    "print(numbers)\n",
    "print(\"\\n\")\n",
    "\n",
    "numbers.sort(reverse=True)\n",
    "print(numbers)\n",
    "print(\"\\n\")\n",
    "\n",
    "#Sorting by length of strings\n",
    "strings=[\"aa\",\"bbbb\",\"ccc\"]\n",
    "strings.sort(key=len)\n",
    "print(strings)"
   ]
  },
  {
   "cell_type": "code",
   "execution_count": 39,
   "metadata": {},
   "outputs": [
    {
     "name": "stdout",
     "output_type": "stream",
     "text": [
      "[11, 22, 33, 44, 66, 77, 88, 99]\n",
      "[11, 22, 33, 44, 66, 77, 88, 99]\n",
      "[99, 88, 77, 66, 44, 33, 22, 11]\n",
      "8\n"
     ]
    }
   ],
   "source": [
    "my_list=[66,33,22,44,88,77,99,11]\n",
    "my_list2=sorted(my_list)\n",
    "print(my_list2)\n",
    "\n",
    "my_list.sort()\n",
    "print(my_list)\n",
    "\n",
    "my_list.reverse()\n",
    "print(my_list)\n",
    "print(len(my_list))"
   ]
  },
  {
   "cell_type": "code",
   "execution_count": 40,
   "metadata": {},
   "outputs": [
    {
     "name": "stdout",
     "output_type": "stream",
     "text": [
      "['apple', 'banana', 'cherry']\n",
      "\n",
      "\n",
      "['apple', 'banana', 'cherry', 'potato', 'tomato']\n",
      "\n",
      "\n",
      "['apple', 'banana', 'cherry', 'potato', 'tomato']\n",
      "\n",
      "\n",
      "['apple', 'banana', 'cherry', 'potato', 'tomato', 'manngo']\n",
      "\n",
      "\n",
      "False\n",
      "1\n",
      "\n",
      "\n",
      "8\n"
     ]
    }
   ],
   "source": [
    "# Reverse , Length, and Extend\n",
    "\n",
    "fruits=[\"apple\",\"banana\"]\n",
    "fruits.append(\"cherry\")\n",
    "print(fruits)\n",
    "print(\"\\n\")\n",
    "\n",
    "vegetables=[\"potato\",\"tomato\"]\n",
    "fruits.extend(vegetables)\n",
    "print(fruits)\n",
    "print(\"\\n\")\n",
    "# Min, Max, in, copy\n",
    "\n",
    "new_fruits=fruits.copy()\n",
    "new_fruits.append(\"manngo\")\n",
    "print(fruits)\n",
    "print(\"\\n\")\n",
    "print(new_fruits)\n",
    "print(\"\\n\")\n",
    "\n",
    "is_mango_in_fruits=\"mango\"in fruits\n",
    "print(is_mango_in_fruits)\n",
    "\n",
    "numbers=[5,1,8,2]\n",
    "smallest=min(numbers)\n",
    "print(smallest)\n",
    "print(\"\\n\")\n",
    "\n",
    "numbers=[5,1,8,2]\n",
    "largest=max(numbers)\n",
    "print(largest)"
   ]
  },
  {
   "cell_type": "markdown",
   "metadata": {},
   "source": [
    "# List Access"
   ]
  },
  {
   "cell_type": "code",
   "execution_count": 41,
   "metadata": {},
   "outputs": [
    {
     "name": "stdout",
     "output_type": "stream",
     "text": [
      "alice\n",
      "david\n",
      "carolina\n",
      "Alice, that was a great trick!\n",
      "David, that was a great trick!\n",
      "Carolina, that was a great trick!\n"
     ]
    }
   ],
   "source": [
    "magicians=['alice','david','carolina']\n",
    "for magician in magicians:\n",
    "    print(magician)\n",
    "    \n",
    "magicians=['alice','david','carolina']\n",
    "for magician in magicians:\n",
    "    print(f\"{magician.title()}, that was a great trick!\")"
   ]
  },
  {
   "cell_type": "code",
   "execution_count": 42,
   "metadata": {},
   "outputs": [
    {
     "name": "stdout",
     "output_type": "stream",
     "text": [
      "1\n",
      "2\n",
      "3\n",
      "4\n",
      "Append to list\n",
      "[1, 2, 3, 4]\n"
     ]
    }
   ],
   "source": [
    "# Numerical List\n",
    "\n",
    "for value in range(1,5):\n",
    "    print(value)\n",
    "    \n",
    "print(\"Append to list\")\n",
    "list=[]\n",
    "for value in range(1,5):\n",
    "    list.append(value)\n",
    "print(list)"
   ]
  },
  {
   "cell_type": "code",
   "execution_count": 43,
   "metadata": {},
   "outputs": [
    {
     "name": "stdout",
     "output_type": "stream",
     "text": [
      "Here are the first three players on my team:\n",
      "Michael\n",
      "Florence\n",
      "Eli\n"
     ]
    }
   ],
   "source": [
    "# Looping through a slice or sublist\n",
    "\n",
    "players = ['charles', 'martina', 'michael', 'florence', 'eli', 'atanu', 'jacob']\n",
    "print(\"Here are the first three players on my team:\")\n",
    "\n",
    "for player in players[2:5]:\n",
    "      print(player.title())"
   ]
  },
  {
   "cell_type": "code",
   "execution_count": 44,
   "metadata": {},
   "outputs": [],
   "source": [
    "# task"
   ]
  },
  {
   "cell_type": "markdown",
   "metadata": {},
   "source": [
    "# Tuple"
   ]
  },
  {
   "cell_type": "code",
   "execution_count": 45,
   "metadata": {},
   "outputs": [
    {
     "name": "stdout",
     "output_type": "stream",
     "text": [
      "('apple', 'banana', 'cherry')\n",
      "('apple', 'banana', 'cherry')\n"
     ]
    }
   ],
   "source": [
    "# Creation\n",
    "\n",
    "my_tuple=(\"apple\",\"banana\",\"cherry\")\n",
    "print(my_tuple)\n",
    "\n",
    "# List to Tuple\n",
    "my_list=[\"apple\",\"banana\",\"cherry\"]\n",
    "my_tuple=tuple(my_list)\n",
    "print(my_tuple)"
   ]
  },
  {
   "cell_type": "code",
   "execution_count": 46,
   "metadata": {},
   "outputs": [
    {
     "name": "stdout",
     "output_type": "stream",
     "text": [
      "Single Element apple\n",
      "\n",
      "\n",
      "apple\n",
      "banana\n",
      "cherry\n"
     ]
    }
   ],
   "source": [
    "# Access\n",
    "\n",
    "my_tuple=[\"apple\",\"banana\",\"cherry\"]\n",
    "first_fruit=my_tuple[0]\n",
    "print(\"Single Element\", first_fruit)\n",
    "print(\"\\n\")\n",
    "\n",
    "for fruit in my_tuple:\n",
    "    print(fruit)"
   ]
  },
  {
   "cell_type": "code",
   "execution_count": 47,
   "metadata": {},
   "outputs": [
    {
     "name": "stdout",
     "output_type": "stream",
     "text": [
      "(400, 33)\n"
     ]
    }
   ],
   "source": [
    "# Can't modify\n",
    "\n",
    "dimensions=(200,50)\n",
    "#dimensions[0]=250  #Error\n",
    "\n",
    "dimensions=(400,33)\n",
    "print(dimensions)"
   ]
  },
  {
   "cell_type": "code",
   "execution_count": 48,
   "metadata": {},
   "outputs": [
    {
     "name": "stdout",
     "output_type": "stream",
     "text": [
      "['banana', 10, 'mango', 25]\n"
     ]
    }
   ],
   "source": [
    "# Define the lists\n",
    "fruits_names = ['banana', 'mango']\n",
    "fruit_quantities = [10, 25]\n",
    "\n",
    "# Create a new list by interleaving the fruit names and quantities\n",
    "result = []\n",
    "for i in range(len(fruits_names)):\n",
    "    result.append(fruits_names[i])\n",
    "    result.append(fruit_quantities[i])\n",
    "\n",
    "print(result)\n"
   ]
  },
  {
   "cell_type": "markdown",
   "metadata": {},
   "source": [
    "# Dictionary"
   ]
  },
  {
   "cell_type": "code",
   "execution_count": 49,
   "metadata": {},
   "outputs": [
    {
     "name": "stdout",
     "output_type": "stream",
     "text": [
      "green\n",
      "5\n",
      "{'name': 'Bob', 'age': 25}\n"
     ]
    }
   ],
   "source": [
    "#Decalre\n",
    "\n",
    "alien_0={'color':'green','points':5}\n",
    "print(alien_0['color'])\n",
    "print(alien_0['points'])\n",
    "my_dict=dict(name=\"Bob\",age=25)\n",
    "print(my_dict)\n",
    "\n"
   ]
  },
  {
   "cell_type": "code",
   "execution_count": 50,
   "metadata": {},
   "outputs": [
    {
     "name": "stdout",
     "output_type": "stream",
     "text": [
      "{'name': 'Alice', 'age': 31, 'City': 'New York'}\n"
     ]
    }
   ],
   "source": [
    "# Initial dictionary\n",
    "my_dict = {\"name\": \"Alice\", \"age\": 30}\n",
    "\n",
    "# Correct way to add a new key-value pair\n",
    "my_dict[\"City\"] = \"New York\"\n",
    "\n",
    "# Correct way to modify an existing value\n",
    "my_dict[\"age\"] = 31\n",
    "\n",
    "print(my_dict)\n"
   ]
  },
  {
   "cell_type": "code",
   "execution_count": 51,
   "metadata": {},
   "outputs": [
    {
     "name": "stdout",
     "output_type": "stream",
     "text": [
      "About to be buira\n"
     ]
    }
   ],
   "source": [
    "if my_dict[\"age\"]<31:\n",
    "    print(\"Not too old\")\n",
    "elif my_dict[\"age\"]==31:\n",
    "    print(\"About to be buira\")\n",
    "else:\n",
    "    print(\"Definitely Buro manush\")"
   ]
  },
  {
   "cell_type": "code",
   "execution_count": 52,
   "metadata": {},
   "outputs": [
    {
     "name": "stdout",
     "output_type": "stream",
     "text": [
      "python\n",
      "{'sarah': 'c', 'edward': 'rust', 'phill': 'php'}\n"
     ]
    }
   ],
   "source": [
    "favorite_languages = {\n",
    "    'jen': 'python',\n",
    "    'sarah': 'c',\n",
    "    'edward': 'rust', \n",
    "    'phill': 'php'\n",
    "}\n",
    "\n",
    "print(favorite_languages['jen'])\n",
    "del favorite_languages['jen']\n",
    "print(favorite_languages)\n"
   ]
  },
  {
   "cell_type": "code",
   "execution_count": 53,
   "metadata": {},
   "outputs": [
    {
     "name": "stdout",
     "output_type": "stream",
     "text": [
      "c\n",
      "not found\n"
     ]
    }
   ],
   "source": [
    "var1 = favorite_languages.get(\"sarah\")\n",
    "print(var1)\n",
    "\n",
    "var1 = favorite_languages.get(\"mahfuj\", \"not found\")\n",
    "print(var1)\n"
   ]
  },
  {
   "cell_type": "code",
   "execution_count": 54,
   "metadata": {},
   "outputs": [
    {
     "name": "stdout",
     "output_type": "stream",
     "text": [
      "Keysarahand value is c\n",
      "Keyedwardand value is rust\n",
      "Keyphilland value is php\n",
      "sarah\n",
      "edward\n",
      "phill\n"
     ]
    }
   ],
   "source": [
    "# Looping through data\n",
    "\n",
    "for k, v in favorite_languages.items():\n",
    "    stri=f\"Key{k}and value is {v}\"\n",
    "    print(stri)\n",
    "\n",
    "\n",
    "# Only keys\n",
    "for k in favorite_languages.keys():\n",
    "    print(k)"
   ]
  },
  {
   "cell_type": "code",
   "execution_count": 55,
   "metadata": {},
   "outputs": [
    {
     "name": "stdout",
     "output_type": "stream",
     "text": [
      "edward\n",
      "phill\n",
      "sarah\n",
      "Object `dictionary` not found.\n",
      "key is crust and value is thick\n",
      "key is toppings and value is ['mushrooms', 'extra chesse']\n"
     ]
    }
   ],
   "source": [
    "# sorted Access\n",
    "\n",
    "for k in sorted(favorite_languages.keys()):\n",
    "    print(k)\n",
    "\n",
    "List in dictionary?\n",
    "\n",
    "pizza={\n",
    "    'crust':'thick',\n",
    "    'toppings':['mushrooms','extra chesse'],\n",
    "}\n",
    "for k, v in pizza.items():\n",
    "    print(f\"key is {k} and value is {v}\")"
   ]
  },
  {
   "cell_type": "code",
   "execution_count": 56,
   "metadata": {},
   "outputs": [
    {
     "name": "stdout",
     "output_type": "stream",
     "text": [
      "{'Alice': 'name', 30: 'age', 'New York': 'city'}\n"
     ]
    }
   ],
   "source": [
    "def swap_dict(input_dict):\n",
    "    # Initialize an empty dictionary to hold the swapped keys and values\n",
    "    swapped_dict = {}\n",
    "    \n",
    "    # Iterate over the items in the input dictionary\n",
    "    for key, value in input_dict.items():\n",
    "        # Add the value as key and key as value to the new dictionary\n",
    "        if value not in swapped_dict:\n",
    "            swapped_dict[value] = key\n",
    "    \n",
    "    return swapped_dict\n",
    "\n",
    "# Example input dictionary\n",
    "input_dict = {\"name\": \"Alice\", \"age\": 30, \"city\": \"New York\"}\n",
    "\n",
    "# Call the function and print the result\n",
    "output_dict = swap_dict(input_dict)\n",
    "print(output_dict)\n"
   ]
  },
  {
   "cell_type": "markdown",
   "metadata": {},
   "source": [
    "# Python Operator"
   ]
  },
  {
   "cell_type": "code",
   "execution_count": 57,
   "metadata": {},
   "outputs": [
    {
     "name": "stdout",
     "output_type": "stream",
     "text": [
      "True\n",
      "True\n",
      "True\n"
     ]
    }
   ],
   "source": [
    "var=5\n",
    "\n",
    "print(var>3 and var<10)\n",
    "print(var>3 or var<4)\n",
    "print(var>3 and var<10)"
   ]
  },
  {
   "cell_type": "code",
   "execution_count": 58,
   "metadata": {},
   "outputs": [
    {
     "name": "stdout",
     "output_type": "stream",
     "text": [
      "a: 10 b: 20 list: [1, 2, 3, 4, 5]\n",
      "a is not present in the given list\n",
      "b is not present in the given list\n",
      "c: 2.0 list [1, 2, 3, 4, 5]\n",
      "c in available in the given list\n"
     ]
    }
   ],
   "source": [
    "# python Operator( In and Not-in)\n",
    "\n",
    "a=10\n",
    "b=20\n",
    "list=[1,2,3,4,5]\n",
    "\n",
    "print(\"a:\",a,\"b:\",b, \"list:\",list)\n",
    "\n",
    "if(a in list):\n",
    "    print(\"a is present in the given list\")\n",
    "else:\n",
    "    print(\"a is not present in the given list\")\n",
    "\n",
    "if(b not in list):\n",
    "    print(\"b is not present in the given list\")\n",
    "else:\n",
    "    print(\"b is present in the given list\")\n",
    "\n",
    "c=b/a\n",
    "print(\"c:\",c,\"list\",list)\n",
    "if(c in list):\n",
    "    print(\"c in available in the given list\")\n",
    "else:\n",
    "    print(\"c is not avilable in the given list\")\n"
   ]
  },
  {
   "cell_type": "code",
   "execution_count": null,
   "metadata": {},
   "outputs": [],
   "source": []
  },
  {
   "cell_type": "code",
   "execution_count": null,
   "metadata": {},
   "outputs": [],
   "source": []
  },
  {
   "cell_type": "code",
   "execution_count": null,
   "metadata": {},
   "outputs": [],
   "source": []
  },
  {
   "cell_type": "code",
   "execution_count": null,
   "metadata": {},
   "outputs": [],
   "source": []
  }
 ],
 "metadata": {
  "kernelspec": {
   "display_name": "Python 3",
   "language": "python",
   "name": "python3"
  },
  "language_info": {
   "codemirror_mode": {
    "name": "ipython",
    "version": 3
   },
   "file_extension": ".py",
   "mimetype": "text/x-python",
   "name": "python",
   "nbconvert_exporter": "python",
   "pygments_lexer": "ipython3",
   "version": "3.12.3"
  }
 },
 "nbformat": 4,
 "nbformat_minor": 2
}
