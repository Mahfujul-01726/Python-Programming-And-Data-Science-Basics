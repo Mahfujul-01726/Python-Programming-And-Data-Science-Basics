{
  "nbformat": 4,
  "nbformat_minor": 0,
  "metadata": {
    "colab": {
      "provenance": []
    },
    "kernelspec": {
      "name": "python3",
      "display_name": "Python 3"
    },
    "language_info": {
      "name": "python"
    }
  },
  "cells": [
    {
      "cell_type": "code",
      "execution_count": null,
      "metadata": {
        "id": "N2ITX5uIPqJX"
      },
      "outputs": [],
      "source": [
        "import numpy as np"
      ]
    },
    {
      "cell_type": "code",
      "source": [
        "name = ['Alice', 'Bob', 'Cathy', 'Doug']\n",
        "age = [25, 45, 37, 19]\n",
        "weight = [55.0, 85.5, 68.0, 61.5]\n",
        "\n",
        "\n",
        "data = np.dtype({'names':('name', 'age', 'weight'),\n",
        "                          'formats':('U10', 'i4', 'f8')})\n",
        "\n",
        "data = np.zeros(4, dtype=data)\n",
        "\n",
        "data['name'] = name\n",
        "data['age'] = age\n",
        "data['weight'] = weight\n",
        "print(data)\n",
        "\n",
        "for ele in data:\n",
        "  print(ele)\n",
        "  print(ele['name'],ele['age'],ele['weight'])"
      ],
      "metadata": {
        "colab": {
          "base_uri": "https://localhost:8080/"
        },
        "id": "sXt6fiRDP1b-",
        "outputId": "3b94a62a-ed98-47f6-a8cc-c9fda71cfe5e"
      },
      "execution_count": null,
      "outputs": [
        {
          "output_type": "stream",
          "name": "stdout",
          "text": [
            "[('Alice', 25, 55. ) ('Bob', 45, 85.5) ('Cathy', 37, 68. )\n",
            " ('Doug', 19, 61.5)]\n",
            "('Alice', 25, 55.)\n",
            "Alice 25 55.0\n",
            "('Bob', 45, 85.5)\n",
            "Bob 45 85.5\n",
            "('Cathy', 37, 68.)\n",
            "Cathy 37 68.0\n",
            "('Doug', 19, 61.5)\n",
            "Doug 19 61.5\n"
          ]
        }
      ]
    },
    {
      "cell_type": "code",
      "source": [
        "coord_dtype = np.dtype([('latitude', np.float64), ('longitude', np.float64)])\n",
        "coords = np.array([(37.7749, -122.4194), (40.7128, -74.0060), (51.5074, -0.1278)], dtype=coord_dtype)\n",
        "\n",
        "print(coords['latitude'])"
      ],
      "metadata": {
        "colab": {
          "base_uri": "https://localhost:8080/"
        },
        "id": "OAq5guSbRAo-",
        "outputId": "ddbf1e23-6804-457b-c84c-936660fa087d"
      },
      "execution_count": null,
      "outputs": [
        {
          "output_type": "stream",
          "name": "stdout",
          "text": [
            "[37.7749 40.7128 51.5074]\n"
          ]
        }
      ]
    }
  ]
}