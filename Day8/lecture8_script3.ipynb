{
  "nbformat": 4,
  "nbformat_minor": 0,
  "metadata": {
    "colab": {
      "provenance": []
    },
    "kernelspec": {
      "name": "python3",
      "display_name": "Python 3"
    },
    "language_info": {
      "name": "python"
    }
  },
  "cells": [
    {
      "cell_type": "code",
      "execution_count": null,
      "metadata": {
        "id": "Iy3D1k6zRfMP"
      },
      "outputs": [],
      "source": [
        "import numpy as np"
      ]
    },
    {
      "cell_type": "code",
      "source": [
        "myArr = np.array([2, 4, 6, 3, 55, 23, 33])\n",
        "print(myArr)\n"
      ],
      "metadata": {
        "colab": {
          "base_uri": "https://localhost:8080/"
        },
        "id": "F4EpyqypSmtH",
        "outputId": "52b18f88-d830-4de8-eb14-1e674c2423ff"
      },
      "execution_count": null,
      "outputs": [
        {
          "output_type": "stream",
          "name": "stdout",
          "text": [
            "[ 2  4  6  3 55 23 33]\n"
          ]
        }
      ]
    },
    {
      "cell_type": "code",
      "source": [
        "TwoDArr = np.array([range(i, i + 3) for i in [2, 4, 6]])\n",
        "print(TwoDArr)\n"
      ],
      "metadata": {
        "colab": {
          "base_uri": "https://localhost:8080/"
        },
        "id": "PXvXscLuUIR9",
        "outputId": "2850ac13-a00f-4d87-cdcd-c1687de5b2ed"
      },
      "execution_count": null,
      "outputs": [
        {
          "output_type": "stream",
          "name": "stdout",
          "text": [
            "[[2 3 4]\n",
            " [4 5 6]\n",
            " [6 7 8]]\n"
          ]
        }
      ]
    },
    {
      "cell_type": "code",
      "source": [
        "arr = np.zeros(10, dtype=int)\n",
        "print(arr)\n"
      ],
      "metadata": {
        "colab": {
          "base_uri": "https://localhost:8080/"
        },
        "id": "EeoD_60JULuO",
        "outputId": "d6d916b5-efb7-4295-f887-533aceb92b02"
      },
      "execution_count": null,
      "outputs": [
        {
          "output_type": "stream",
          "name": "stdout",
          "text": [
            "[0 0 0 0 0 0 0 0 0 0]\n"
          ]
        }
      ]
    },
    {
      "cell_type": "code",
      "source": [
        "arr = np.ones((5,3), dtype='float32')\n",
        "print(arr)\n"
      ],
      "metadata": {
        "colab": {
          "base_uri": "https://localhost:8080/"
        },
        "id": "2q8g1xG3UOq7",
        "outputId": "8e1de794-9a19-4a02-9ade-b5827933c69f"
      },
      "execution_count": null,
      "outputs": [
        {
          "output_type": "stream",
          "name": "stdout",
          "text": [
            "[[1. 1. 1.]\n",
            " [1. 1. 1.]\n",
            " [1. 1. 1.]\n",
            " [1. 1. 1.]\n",
            " [1. 1. 1.]]\n"
          ]
        }
      ]
    },
    {
      "cell_type": "code",
      "source": [
        "arr = np.arange(0, 20, 2)\n",
        "print(arr)\n",
        "arr = np.linspace(0, 1, 5)\n",
        "print(arr)\n",
        "arr = np.random.random((3,3))\n",
        "print(arr)"
      ],
      "metadata": {
        "colab": {
          "base_uri": "https://localhost:8080/"
        },
        "id": "-wYV4Kn8UR74",
        "outputId": "1fa300a7-35ff-4a0f-915a-9ea3e8ea68cc"
      },
      "execution_count": null,
      "outputs": [
        {
          "output_type": "stream",
          "name": "stdout",
          "text": [
            "[ 0  2  4  6  8 10 12 14 16 18]\n",
            "[0.   0.25 0.5  0.75 1.  ]\n",
            "[[0.66471841 0.55059971 0.23652802]\n",
            " [0.20402302 0.65822415 0.48651941]\n",
            " [0.32722864 0.7374309  0.88697982]]\n"
          ]
        }
      ]
    },
    {
      "cell_type": "code",
      "source": [
        "arr1 = np.random.randint(1,10, size=10)\n",
        "print(arr1)\n",
        "arr2 = np.random.randint(1,10, size=10)\n",
        "print(arr2)\n",
        "arr3 = arr1 - arr2\n",
        "print(arr3)\n",
        "\n",
        "result = np.dot(arr1, arr2)\n",
        "print(result)"
      ],
      "metadata": {
        "colab": {
          "base_uri": "https://localhost:8080/"
        },
        "id": "PRnENJGnhHUg",
        "outputId": "b2f29c7a-7ef3-4822-a8ed-1ef24353abac"
      },
      "execution_count": null,
      "outputs": [
        {
          "output_type": "stream",
          "name": "stdout",
          "text": [
            "[2 1 3 6 1 3 7 7 1 8]\n",
            "[5 3 8 1 2 1 6 6 2 9]\n",
            "[-3 -2 -5  5 -1  2  1  1 -1 -1]\n",
            "206\n"
          ]
        }
      ]
    },
    {
      "cell_type": "code",
      "source": [
        "import pandas as pd"
      ],
      "metadata": {
        "id": "2uWrkT6VkuIm"
      },
      "execution_count": null,
      "outputs": []
    },
    {
      "cell_type": "code",
      "source": [
        "data = pd.read_csv(\"SampleData.csv\")\n",
        "#print(data)\n",
        "\n",
        "units = np.array(data['Units'])\n",
        "unit_cost = np.array(data['Unit Cost'])\n",
        "\n",
        "total = units * unit_cost\n",
        "\n",
        "print(total)\n"
      ],
      "metadata": {
        "colab": {
          "base_uri": "https://localhost:8080/"
        },
        "id": "fbSWxZEtkxcC",
        "outputId": "9af2757c-f285-43d9-f767-770884df9730"
      },
      "execution_count": null,
      "outputs": [
        {
          "output_type": "stream",
          "name": "stdout",
          "text": [
            "[ 189.05  999.5   179.64  539.73  167.44  299.4   149.25  449.1    63.68\n",
            "  539.4   449.1    57.71 1619.19  174.65  250.    255.84  251.72  575.36\n",
            "  299.85  479.04   86.43 1183.26  413.54 1305.     19.96  139.93  249.5\n",
            "  131.34  479.04   68.37  719.2   625.    309.38  686.95 1005.9   825.\n",
            "    9.03  151.24 1139.43   18.06   54.89 1879.06  139.72]\n"
          ]
        }
      ]
    },
    {
      "cell_type": "code",
      "source": [
        "print(units)\n",
        "temp = units + 5\n",
        "print(temp)"
      ],
      "metadata": {
        "colab": {
          "base_uri": "https://localhost:8080/"
        },
        "id": "2njWvBXOmfox",
        "outputId": "588fa0aa-1b16-45c9-d2d0-1d1f0e093055"
      },
      "execution_count": null,
      "outputs": [
        {
          "output_type": "stream",
          "name": "stdout",
          "text": [
            "[95 50 36 27 56 60 75 90 32 60 90 29 81 35  2 16 28 64 15 96 67 74 46 87\n",
            "  4  7 50 66 96 53 80  5 62 55 42  3  7 76 57 14 11 94 28]\n",
            "[100  55  41  32  61  65  80  95  37  65  95  34  86  40   7  21  33  69\n",
            "  20 101  72  79  51  92   9  12  55  71 101  58  85  10  67  60  47   8\n",
            "  12  81  62  19  16  99  33]\n"
          ]
        }
      ]
    },
    {
      "cell_type": "markdown",
      "source": [
        "##Broadcasting Rules"
      ],
      "metadata": {
        "id": "nX1TxxUjnAjh"
      }
    },
    {
      "cell_type": "code",
      "source": [
        "M = np.ones((2, 3))\n",
        "a = np.arange(3)\n",
        "print(M)\n",
        "print(a)\n",
        "\n",
        "temp = M+a\n",
        "print(temp)"
      ],
      "metadata": {
        "colab": {
          "base_uri": "https://localhost:8080/"
        },
        "id": "lTDArszGnDQt",
        "outputId": "d822acd8-11e2-473e-98b8-9f36aa3afe38"
      },
      "execution_count": null,
      "outputs": [
        {
          "output_type": "stream",
          "name": "stdout",
          "text": [
            "[[1. 1. 1.]\n",
            " [1. 1. 1.]]\n",
            "[0 1 2]\n",
            "[[1. 2. 3.]\n",
            " [1. 2. 3.]]\n"
          ]
        }
      ]
    },
    {
      "cell_type": "code",
      "source": [
        "M = np.ones((3, 2))\n",
        "a = np.arange(3)\n",
        "\n",
        "print(M+a)"
      ],
      "metadata": {
        "colab": {
          "base_uri": "https://localhost:8080/",
          "height": 180
        },
        "id": "C__CVqwepcii",
        "outputId": "39e2020a-7a15-4def-d003-2bb8dd5b91d2"
      },
      "execution_count": null,
      "outputs": [
        {
          "output_type": "error",
          "ename": "ValueError",
          "evalue": "operands could not be broadcast together with shapes (3,2) (3,) ",
          "traceback": [
            "\u001b[0;31m---------------------------------------------------------------------------\u001b[0m",
            "\u001b[0;31mValueError\u001b[0m                                Traceback (most recent call last)",
            "\u001b[0;32m<ipython-input-26-4e836620fb15>\u001b[0m in \u001b[0;36m<cell line: 4>\u001b[0;34m()\u001b[0m\n\u001b[1;32m      2\u001b[0m \u001b[0ma\u001b[0m \u001b[0;34m=\u001b[0m \u001b[0mnp\u001b[0m\u001b[0;34m.\u001b[0m\u001b[0marange\u001b[0m\u001b[0;34m(\u001b[0m\u001b[0;36m3\u001b[0m\u001b[0;34m)\u001b[0m\u001b[0;34m\u001b[0m\u001b[0;34m\u001b[0m\u001b[0m\n\u001b[1;32m      3\u001b[0m \u001b[0;34m\u001b[0m\u001b[0m\n\u001b[0;32m----> 4\u001b[0;31m \u001b[0mprint\u001b[0m\u001b[0;34m(\u001b[0m\u001b[0mM\u001b[0m\u001b[0;34m+\u001b[0m\u001b[0ma\u001b[0m\u001b[0;34m)\u001b[0m\u001b[0;34m\u001b[0m\u001b[0;34m\u001b[0m\u001b[0m\n\u001b[0m",
            "\u001b[0;31mValueError\u001b[0m: operands could not be broadcast together with shapes (3,2) (3,) "
          ]
        }
      ]
    },
    {
      "cell_type": "code",
      "source": [
        "mean_X = units.mean(0)\n",
        "print(mean_X)"
      ],
      "metadata": {
        "colab": {
          "base_uri": "https://localhost:8080/"
        },
        "id": "i45KxqJ_sZ0D",
        "outputId": "e9746ae6-880a-4362-afa9-333f67fd38d6"
      },
      "execution_count": null,
      "outputs": [
        {
          "output_type": "stream",
          "name": "stdout",
          "text": [
            "49.325581395348834\n"
          ]
        }
      ]
    },
    {
      "cell_type": "code",
      "source": [
        "import numpy as np\n",
        "\n",
        "# Given arrays\n",
        "celsius_temps = np.array([20, 25, 30, 35])\n",
        "fahrenheit_temps = np.array([68, 77, 86, 95])\n",
        "\n",
        "# Convert Celsius to Fahrenheit using broadcasting\n",
        "fahrenheit_temps_converted = (celsius_temps * 9/5) + 32\n",
        "\n",
        "# Print the results\n",
        "print(\"Celsius Temperatures:\", celsius_temps)\n",
        "print(\"Fahrenheit Temperatures (original):\", fahrenheit_temps)\n",
        "print(\"Fahrenheit Temperatures (converted):\", fahrenheit_temps_converted)\n",
        "\n",
        "print(np.array_equal(fahrenheit_temps,fahrenheit_temps_converted))"
      ],
      "metadata": {
        "colab": {
          "base_uri": "https://localhost:8080/"
        },
        "id": "fwb2GnI6BovG",
        "outputId": "0c45ce23-0a1b-42f0-ec48-a4f113a343ab"
      },
      "execution_count": null,
      "outputs": [
        {
          "output_type": "stream",
          "name": "stdout",
          "text": [
            "Celsius Temperatures: [20 25 30 35]\n",
            "Fahrenheit Temperatures (original): [68 77 86 95]\n",
            "Fahrenheit Temperatures (converted): [68. 77. 86. 95.]\n",
            "True\n"
          ]
        }
      ]
    },
    {
      "cell_type": "code",
      "source": [
        "import numpy as np\n",
        "\n",
        "# Given arrays\n",
        "exam_scores = np.array([[85, 90, 88], [78, 85, 80], [92, 88, 95]])\n",
        "bonus_score = 5\n",
        "\n",
        "# Calculate average scores with broadcasting\n",
        "average_scores = np.mean(exam_scores, axis=1)\n",
        "\n",
        "# Add bonus score to the specific student\n",
        "exam_scores[0] += bonus_score\n",
        "\n",
        "print(exam_scores)\n",
        "\n",
        "# Calculate the new average scores with the bonus\n",
        "new_average_scores = np.mean(exam_scores, axis=1)\n",
        "\n",
        "# Print the results\n",
        "print(\"Original Average Scores:\", average_scores)\n",
        "print(\"New Average Scores with Bonus:\", new_average_scores)"
      ],
      "metadata": {
        "colab": {
          "base_uri": "https://localhost:8080/"
        },
        "id": "hLmO1beAClRn",
        "outputId": "305af62d-1578-4c19-e74c-ce7df8ab508b"
      },
      "execution_count": null,
      "outputs": [
        {
          "output_type": "stream",
          "name": "stdout",
          "text": [
            "[[90 95 93]\n",
            " [78 85 80]\n",
            " [92 88 95]]\n",
            "Original Average Scores: [87.66666667 81.         91.66666667]\n",
            "New Average Scores with Bonus: [92.66666667 81.         91.66666667]\n"
          ]
        }
      ]
    },
    {
      "cell_type": "markdown",
      "source": [
        "##Comparison, Masking, Boolean Logic"
      ],
      "metadata": {
        "id": "mI6wKx1tDpHf"
      }
    },
    {
      "cell_type": "code",
      "source": [
        "x = np.array([1, 2, 3, 4, 5])\n",
        "\n",
        "print(x>=3)\n",
        "\n",
        "print(x!=3)"
      ],
      "metadata": {
        "colab": {
          "base_uri": "https://localhost:8080/"
        },
        "id": "FwJIYi19DtA8",
        "outputId": "c673d255-9371-434f-e38d-662e0033cd85"
      },
      "execution_count": null,
      "outputs": [
        {
          "output_type": "stream",
          "name": "stdout",
          "text": [
            "[False False  True  True  True]\n",
            "[ True  True False  True  True]\n"
          ]
        }
      ]
    },
    {
      "cell_type": "code",
      "source": [
        "x = np.array([34, 22, 13, 45, 51, 33, 11])\n",
        "\n",
        "\n",
        "temp = np.where(x<=25)\n",
        "print(temp)\n",
        "temp = np.sum(x<=25)\n",
        "print(temp)"
      ],
      "metadata": {
        "colab": {
          "base_uri": "https://localhost:8080/"
        },
        "id": "riNxgB3JEQNJ",
        "outputId": "2b353b75-ee5a-4a60-eafe-9be8a77c8be1"
      },
      "execution_count": null,
      "outputs": [
        {
          "output_type": "stream",
          "name": "stdout",
          "text": [
            "(array([1, 2, 6]),)\n",
            "3\n"
          ]
        }
      ]
    },
    {
      "cell_type": "code",
      "source": [
        "x = np.array([1, 2, 3, 4, 5])\n",
        "y = np.array([1, 2, 3, 4, 5])\n",
        "z = np.array([6, 7, 8, 9, 10])\n",
        "\n",
        "temp = np.any(x==z)\n",
        "print(temp)\n",
        "temp = np.all(x==y)\n",
        "print(temp)"
      ],
      "metadata": {
        "colab": {
          "base_uri": "https://localhost:8080/"
        },
        "id": "z-nHhLw2FHQ9",
        "outputId": "74ad3584-8eee-4520-9df8-5011dfc5878a"
      },
      "execution_count": null,
      "outputs": [
        {
          "output_type": "stream",
          "name": "stdout",
          "text": [
            "False\n",
            "True\n"
          ]
        }
      ]
    },
    {
      "cell_type": "code",
      "source": [
        "print(units)\n",
        "\n",
        "temp = (units>20)\n",
        "print(temp)\n",
        "\n",
        "temp = ((units>20) & (units<80))\n",
        "print(temp)"
      ],
      "metadata": {
        "colab": {
          "base_uri": "https://localhost:8080/"
        },
        "id": "yF9NU_W8GjU3",
        "outputId": "6a6e0e7f-4468-4095-9f61-7d3582025264"
      },
      "execution_count": null,
      "outputs": [
        {
          "output_type": "stream",
          "name": "stdout",
          "text": [
            "[95 50 36 27 56 60 75 90 32 60 90 29 81 35  2 16 28 64 15 96 67 74 46 87\n",
            "  4  7 50 66 96 53 80  5 62 55 42  3  7 76 57 14 11 94 28]\n",
            "[ True  True  True  True  True  True  True  True  True  True  True  True\n",
            "  True  True False False  True  True False  True  True  True  True  True\n",
            " False False  True  True  True  True  True False  True  True  True False\n",
            " False  True  True False False  True  True]\n",
            "[False  True  True  True  True  True  True False  True  True False  True\n",
            " False  True False False  True  True False False  True  True  True False\n",
            " False False  True  True False  True False False  True  True  True False\n",
            " False  True  True False False False  True]\n"
          ]
        }
      ]
    },
    {
      "cell_type": "code",
      "source": [
        "import numpy as np\n",
        "\n",
        "# Create a 2D NumPy array\n",
        "arr = np.array([[1, 2, 3], [4, 5, 6], [7, 8, 9]])\n",
        "\n",
        "# Access each element using nested for loops\n",
        "for row in arr:\n",
        "    for elem in row:\n",
        "        print(elem)"
      ],
      "metadata": {
        "colab": {
          "base_uri": "https://localhost:8080/"
        },
        "id": "wycTjq69H6Bq",
        "outputId": "1c75d9ab-b4ad-4048-e439-ccfa4954333f"
      },
      "execution_count": null,
      "outputs": [
        {
          "output_type": "stream",
          "name": "stdout",
          "text": [
            "1\n",
            "2\n",
            "3\n",
            "4\n",
            "5\n",
            "6\n",
            "7\n",
            "8\n",
            "9\n"
          ]
        }
      ]
    },
    {
      "cell_type": "code",
      "source": [
        "import numpy as np\n",
        "\n",
        "# Create a 2D NumPy array\n",
        "arr = np.array([[1, 2, 3], [4, 5, 6], [7, 8, 9]])\n",
        "\n",
        "# Flatten the array and access each element\n",
        "for elem in arr.flatten():\n",
        "    print(elem)"
      ],
      "metadata": {
        "colab": {
          "base_uri": "https://localhost:8080/"
        },
        "id": "bjFQR11VLgY-",
        "outputId": "a426ba53-c854-4fdb-a7c0-f12cce4702fa"
      },
      "execution_count": null,
      "outputs": [
        {
          "output_type": "stream",
          "name": "stdout",
          "text": [
            "1\n",
            "2\n",
            "3\n",
            "4\n",
            "5\n",
            "6\n",
            "7\n",
            "8\n",
            "9\n"
          ]
        }
      ]
    },
    {
      "cell_type": "markdown",
      "source": [
        "## Fancy Indeing"
      ],
      "metadata": {
        "id": "BtOQwsmgIQ2X"
      }
    },
    {
      "cell_type": "code",
      "source": [
        "x = np.random.randint(100, size=10)\n",
        "print(x)\n",
        "\n",
        "print(x[[0,2,4]])\n",
        "\n",
        "ind = [0,2,4]\n",
        "print(x[ind])"
      ],
      "metadata": {
        "colab": {
          "base_uri": "https://localhost:8080/"
        },
        "id": "vL_lSh6OIQF5",
        "outputId": "d2965cf8-290d-419d-ebf7-1b4233e47b1c"
      },
      "execution_count": null,
      "outputs": [
        {
          "output_type": "stream",
          "name": "stdout",
          "text": [
            "[76 33 28 48 74 25 81 56 65 40]\n",
            "[76 28 74]\n",
            "[76 28 74]\n"
          ]
        }
      ]
    },
    {
      "cell_type": "code",
      "source": [
        "X = np.arange(12).reshape((3, 4))\n",
        "print(X)\n",
        "\n",
        "row = np.array([0, 1, 2])\n",
        "col = np.array([2, 1, 3])\n",
        "print(X[row, col])"
      ],
      "metadata": {
        "colab": {
          "base_uri": "https://localhost:8080/"
        },
        "id": "9E-mO5GJMCiS",
        "outputId": "06817a47-5070-430a-ed02-bdfb2f7552ec"
      },
      "execution_count": null,
      "outputs": [
        {
          "output_type": "stream",
          "name": "stdout",
          "text": [
            "[[ 0  1  2  3]\n",
            " [ 4  5  6  7]\n",
            " [ 8  9 10 11]]\n",
            "[ 2  5 11]\n"
          ]
        }
      ]
    },
    {
      "cell_type": "markdown",
      "source": [
        "##Sorting"
      ],
      "metadata": {
        "id": "aa4MEFYaMriQ"
      }
    },
    {
      "cell_type": "code",
      "source": [
        "x = np.array([2, 1, 4, 3, 5])\n",
        "\n",
        "temp = np.sort(x)\n",
        "print(temp)\n",
        "print(x)\n",
        "\n",
        "x.sort()\n",
        "print(x)"
      ],
      "metadata": {
        "colab": {
          "base_uri": "https://localhost:8080/"
        },
        "id": "Aotd24MQMqzS",
        "outputId": "04851c61-6bd1-4133-9354-3429324a434f"
      },
      "execution_count": null,
      "outputs": [
        {
          "output_type": "stream",
          "name": "stdout",
          "text": [
            "[1 2 3 4 5]\n",
            "[2 1 4 3 5]\n",
            "[1 2 3 4 5]\n"
          ]
        }
      ]
    },
    {
      "cell_type": "code",
      "source": [
        "# Sorted Indices\n",
        "\n",
        "x = np.array([2, 1, 4, 3, 5])\n",
        "i = np.argsort(x)\n",
        "print(i)"
      ],
      "metadata": {
        "colab": {
          "base_uri": "https://localhost:8080/"
        },
        "id": "iBM4KCbSNXTH",
        "outputId": "5b09f032-e13a-4118-f8c0-f2d736c7aee6"
      },
      "execution_count": null,
      "outputs": [
        {
          "output_type": "stream",
          "name": "stdout",
          "text": [
            "[1 0 3 2 4]\n"
          ]
        }
      ]
    },
    {
      "cell_type": "code",
      "source": [
        "# Row and Column wise sort\n",
        "\n",
        "rand = np.random.RandomState(42)\n",
        "X = rand.randint(0, 10, (4, 6))\n",
        "print(X)\n",
        "\n",
        "# sort each column of X\n",
        "temp = np.sort(X, axis=0)\n",
        "print(temp)\n",
        "\n",
        "# sort each row of X\n",
        "temp = np.sort(X, axis=1)\n",
        "print(temp)"
      ],
      "metadata": {
        "colab": {
          "base_uri": "https://localhost:8080/"
        },
        "id": "u4mcSKo0OAn2",
        "outputId": "09a6d1ea-da66-42d1-d96b-dbf1fb070f37"
      },
      "execution_count": null,
      "outputs": [
        {
          "output_type": "stream",
          "name": "stdout",
          "text": [
            "[[6 3 7 4 6 9]\n",
            " [2 6 7 4 3 7]\n",
            " [7 2 5 4 1 7]\n",
            " [5 1 4 0 9 5]]\n",
            "[[2 1 4 0 1 5]\n",
            " [5 2 5 4 3 7]\n",
            " [6 3 7 4 6 7]\n",
            " [7 6 7 4 9 9]]\n",
            "[[3 4 6 6 7 9]\n",
            " [2 3 4 6 7 7]\n",
            " [1 2 4 5 7 7]\n",
            " [0 1 4 5 5 9]]\n"
          ]
        }
      ]
    }
  ]
}