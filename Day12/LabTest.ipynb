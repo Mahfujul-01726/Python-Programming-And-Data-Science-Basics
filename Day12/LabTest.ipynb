{
 "cells": [
  {
   "cell_type": "code",
   "execution_count": 1,
   "metadata": {},
   "outputs": [
    {
     "name": "stdout",
     "output_type": "stream",
     "text": [
      "1451.15\n"
     ]
    }
   ],
   "source": [
    "x=1451.1545\n",
    "y=round(x,2)\n",
    "print(y)"
   ]
  },
  {
   "cell_type": "code",
   "execution_count": 2,
   "metadata": {},
   "outputs": [
    {
     "name": "stdout",
     "output_type": "stream",
     "text": [
      "I bought 10 balls and the total price is 120$\n"
     ]
    }
   ],
   "source": [
    "no_of_balls = 10\n",
    "total_price = 120\n",
    "\n",
    "output = f\"I bought {no_of_balls} balls and the total price is {total_price}$\"\n",
    "print(output)"
   ]
  },
  {
   "cell_type": "code",
   "execution_count": 3,
   "metadata": {},
   "outputs": [
    {
     "name": "stdout",
     "output_type": "stream",
     "text": [
      "Unique numbers: [1, 2, 3, 4, 5, 6, 7]\n"
     ]
    }
   ],
   "source": [
    "\n",
    "original_list = [1, 2, 3, 2, 4, 1, 5, 6, 7, 6]\n",
    "\n",
    "unique_numbers = list(set(original_list))\n",
    "\n",
    "print(\"Unique numbers:\", unique_numbers)\n"
   ]
  },
  {
   "cell_type": "code",
   "execution_count": 4,
   "metadata": {},
   "outputs": [
    {
     "name": "stdout",
     "output_type": "stream",
     "text": [
      "Original random integers:\n",
      " [111 112 121 104 144 123 105 120 118 106 127 117 130 132 148 109 134 109\n",
      " 129 105 137 150 103 123 133 139 134 108 119 114 131 134 149 115 142 141\n",
      " 137 145 145 111 147 117 119 101 145 118 116 119 115 104]\n",
      "\n",
      "Values after multiplication:\n",
      " [1110 1120 1210 1040 1440 1230 1050 1200 1180 1060 1270 1170 1300 1320\n",
      " 1480 1090 1340 1090 1290 1050 1370 1500 1030 1230 1330 1390 1340 1080\n",
      " 1190 1140 1310 1340 1490 1150 1420 1410 1370 1450 1450 1110 1470 1170\n",
      " 1190 1010 1450 1180 1160 1190 1150 1040]\n"
     ]
    }
   ],
   "source": [
    "import numpy as np\n",
    "\n",
    "\n",
    "random_integers = np.random.randint(101, 151, size=50)\n",
    "\n",
    "\n",
    "multiplied_values = random_integers * 10\n",
    "\n",
    "\n",
    "print(\"Original random integers:\\n\", random_integers)\n",
    "print(\"\\nValues after multiplication:\\n\", multiplied_values)\n"
   ]
  },
  {
   "cell_type": "code",
   "execution_count": 6,
   "metadata": {},
   "outputs": [
    {
     "name": "stdout",
     "output_type": "stream",
     "text": [
      "Array: [0 2 0 4 0]\n",
      "Result of np.any(): True\n",
      "Array: [1 2 3 4 0]\n",
      "Result of np.all(): False\n",
      "Array: [10 20 30 40 50]\n",
      "Indices where array > 25: (array([2, 3, 4], dtype=int64),)\n"
     ]
    }
   ],
   "source": [
    "import numpy as np\n",
    "\n",
    "# Sample NumPy array\n",
    "array = np.array([0, 2, 0, 4, 0])\n",
    "\n",
    "result_any = np.any(array)\n",
    "\n",
    "print(\"Array:\", array)\n",
    "print(\"Result of np.any():\", result_any)\n",
    "\n",
    "\n",
    "array = np.array([1, 2, 3, 4, 0])\n",
    "\n",
    "result_all = np.all(array)\n",
    "\n",
    "print(\"Array:\", array)\n",
    "print(\"Result of np.all():\", result_all)\n",
    "\n",
    "\n",
    "array = np.array([10, 20, 30, 40, 50])\n",
    "\n",
    "result_where = np.where(array > 25)\n",
    "\n",
    "print(\"Array:\", array)\n",
    "print(\"Indices where array > 25:\", result_where)\n"
   ]
  },
  {
   "cell_type": "code",
   "execution_count": null,
   "metadata": {},
   "outputs": [],
   "source": []
  },
  {
   "cell_type": "code",
   "execution_count": null,
   "metadata": {},
   "outputs": [],
   "source": []
  }
 ],
 "metadata": {
  "kernelspec": {
   "display_name": "Python 3",
   "language": "python",
   "name": "python3"
  },
  "language_info": {
   "codemirror_mode": {
    "name": "ipython",
    "version": 3
   },
   "file_extension": ".py",
   "mimetype": "text/x-python",
   "name": "python",
   "nbconvert_exporter": "python",
   "pygments_lexer": "ipython3",
   "version": "3.12.3"
  }
 },
 "nbformat": 4,
 "nbformat_minor": 2
}
