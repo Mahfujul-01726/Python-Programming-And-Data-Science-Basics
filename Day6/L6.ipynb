{
 "cells": [
  {
   "cell_type": "code",
   "execution_count": 2,
   "metadata": {},
   "outputs": [
    {
     "name": "stdout",
     "output_type": "stream",
     "text": [
      "Passed with distinction\n"
     ]
    }
   ],
   "source": [
    "# if-Else\n",
    "\n",
    "marks=80\n",
    "#result=\"\"\n",
    "if marks<30:\n",
    "    result=\"Failed\"\n",
    "elif marks>75:\n",
    "    result=\"Passed with distinction\"\n",
    "else:\n",
    "    result=\"Passed\"\n",
    "\n",
    "print(result)"
   ]
  },
  {
   "cell_type": "code",
   "execution_count": 4,
   "metadata": {},
   "outputs": [
    {
     "name": "stdout",
     "output_type": "stream",
     "text": [
      "Go to work!\n"
     ]
    }
   ],
   "source": [
    "day=\"Tuesday\"\n",
    "\n",
    "if day==\"Saturday\" or day==\"Sunday\" or day==\"Sunday\":\n",
    "    print(\"Enjoy your weekend!\")\n",
    "else: print(\"Go to work!\")\n"
   ]
  },
  {
   "cell_type": "code",
   "execution_count": 5,
   "metadata": {},
   "outputs": [
    {
     "name": "stdout",
     "output_type": "stream",
     "text": [
      "Go to work!\n"
     ]
    }
   ],
   "source": [
    "day=\"Tuesday\"\n",
    "is_weekend=day==\"Saturday\" or day==\"Sunday\"\n",
    "\n",
    "if not is_weekend:\n",
    "    print(\"Go to work!\")\n",
    "else:\n",
    "    print(\"Enjoy your weekend!\")"
   ]
  },
  {
   "cell_type": "code",
   "execution_count": 6,
   "metadata": {},
   "outputs": [
    {
     "name": "stdout",
     "output_type": "stream",
     "text": [
      "Grade: B\n"
     ]
    }
   ],
   "source": [
    "score=85\n",
    "if score>=90:\n",
    "    print(\"Grade: A\")\n",
    "elif score>=80:\n",
    "    print(\"Grade: B\")\n",
    "elif score>=70:\n",
    "    print(\"Grade: C\")\n",
    "else:\n",
    "    print(\"Grade: F\")"
   ]
  },
  {
   "cell_type": "code",
   "execution_count": 8,
   "metadata": {},
   "outputs": [
    {
     "name": "stdout",
     "output_type": "stream",
     "text": [
      "Secret number:  1\n",
      "Guess: 6\n",
      "Too high, tyr agaring!\n"
     ]
    }
   ],
   "source": [
    "import random\n",
    "\n",
    "secret_number=random.randint(1,10)\n",
    "guess=int(input(\"Guess a number between 1 and 10:\"))\n",
    "print(\"Secret number: \", secret_number)\n",
    "print(\"Guess:\", guess)\n",
    "\n",
    "if guess ==secret_number:\n",
    "    print(\"You guessed it right!\")\n",
    "elif guess< secret_number:\n",
    "    print(\"Too low, try again!\")\n",
    "else:\n",
    "    print(\"Too high, tyr agaring!\")\n",
    "    "
   ]
  },
  {
   "cell_type": "code",
   "execution_count": 2,
   "metadata": {},
   "outputs": [
    {
     "name": "stdout",
     "output_type": "stream",
     "text": [
      "Leap year is not : 1900\n"
     ]
    }
   ],
   "source": [
    "# Try out\n",
    "#1\n",
    "\n",
    "year=1900\n",
    "\n",
    "if(year%400==0) and (year%100==0):\n",
    "    print(\"Leap year is :\", year)\n",
    "elif(year%4==0) and (year%100!=0):\n",
    "    print(\"Leap year is :\", year)\n",
    "\n",
    "else:\n",
    "    print(\"Leap year is not :\", year)"
   ]
  },
  {
   "cell_type": "code",
   "execution_count": 4,
   "metadata": {},
   "outputs": [
    {
     "name": "stdout",
     "output_type": "stream",
     "text": [
      "Grade: A\n"
     ]
    }
   ],
   "source": [
    "sub1 = int(input(\"Enter marks of the first subject: \"))\n",
    "sub2 = int(input(\"Enter marks of the second subject: \"))\n",
    "sub3 = int(input(\"Enter marks of the third subject: \"))\n",
    "sub4 = int(input(\"Enter marks of the fourth subject: \"))\n",
    "sub5 = int(input(\"Enter marks of the fifth subject: \"))\n",
    "avg = (sub1 + sub2 + sub3 + sub4 + sub5) / 5\n",
    "\n",
    "if avg >= 90:\n",
    "    print(\"Grade: A\")\n",
    "elif avg >= 80 and avg < 90:\n",
    "    print(\"Grade: B\")\n",
    "elif avg >= 70 and avg < 80:\n",
    "    print(\"Grade: C\")\n",
    "elif avg >= 60 and avg < 70:\n",
    "    print(\"Grade: D\")\n",
    "else:\n",
    "    print(\"Grade: F\")\n"
   ]
  },
  {
   "cell_type": "code",
   "execution_count": 5,
   "metadata": {},
   "outputs": [
    {
     "name": "stdout",
     "output_type": "stream",
     "text": [
      "Password must contain at least one uppercase letter.\n"
     ]
    }
   ],
   "source": [
    "# Try out\n",
    "#3\n",
    "\n",
    "def check_password(password):\n",
    "    if len(password) < 8:\n",
    "        return \"Password is too short. It must be at least 8 characters long.\"\n",
    "    if not any(char.islower() for char in password):\n",
    "        return \"Password must contain at least one lowercase letter.\"\n",
    "    if not any(char.isupper() for char in password):\n",
    "        return \"Password must contain at least one uppercase letter.\"\n",
    "    return \"Password is valid.\"\n",
    "\n",
    "# Ask the user to create a password\n",
    "password = input(\"Create a password: \")\n",
    "\n",
    "# Check if the password meets the criteria\n",
    "result = check_password(password)\n",
    "\n",
    "# Print the result\n",
    "print(result)\n"
   ]
  },
  {
   "cell_type": "code",
   "execution_count": 6,
   "metadata": {},
   "outputs": [
    {
     "name": "stdout",
     "output_type": "stream",
     "text": [
      "num2 is greater\n"
     ]
    }
   ],
   "source": [
    "#Nested If-Else\n",
    "\n",
    "num1=10\n",
    "num2=20\n",
    "\n",
    "if num1>num2:\n",
    "    print(\"num1 is greater\")\n",
    "else:\n",
    "    if num1==num2:\n",
    "        print(\"num1 and num2 are equal\")\n",
    "    else:\n",
    "            print(\"num2 is greater\")"
   ]
  },
  {
   "cell_type": "code",
   "execution_count": 7,
   "metadata": {},
   "outputs": [
    {
     "name": "stdout",
     "output_type": "stream",
     "text": [
      "Adding mushrooms.\n",
      "\n",
      "Finished making your pizza!\n"
     ]
    }
   ],
   "source": [
    "requested_toppings = ['mushrooms', 'extra cheese']\n",
    "\n",
    "if 'mushrooms' in requested_toppings:\n",
    "    print(\"Adding mushrooms.\")\n",
    "elif 'pepperoni' in requested_toppings:  # Corrected 'peperoni' to 'pepperoni'\n",
    "    print(\"Adding pepperoni.\")\n",
    "elif 'extra cheese' in requested_toppings:\n",
    "    print(\"Adding extra cheese.\")\n",
    "\n",
    "print(\"\\nFinished making your pizza!\")\n"
   ]
  },
  {
   "cell_type": "code",
   "execution_count": 8,
   "metadata": {},
   "outputs": [
    {
     "name": "stdout",
     "output_type": "stream",
     "text": [
      "0\n",
      "2\n",
      "4\n",
      "6\n",
      "8\n"
     ]
    }
   ],
   "source": [
    "# For Loop\n",
    "\n",
    "for i in range(0, 10, 2):\n",
    "    print(i)"
   ]
  },
  {
   "cell_type": "code",
   "execution_count": 9,
   "metadata": {},
   "outputs": [
    {
     "name": "stdout",
     "output_type": "stream",
     "text": [
      "eat\n",
      "sleep\n",
      "repeat\n",
      "0 eat\n",
      "1 sleep\n",
      "2 repeat\n"
     ]
    }
   ],
   "source": [
    "l1=[\"eat\",\"sleep\",\"repeat\"]\n",
    "\n",
    "for ele in l1:\n",
    "    print(ele)\n",
    "\n",
    "l1=[\"eat\",\"sleep\",\"repeat\"]\n",
    "\n",
    "for count, ele in enumerate(l1):\n",
    "    print(count, ele)"
   ]
  },
  {
   "cell_type": "code",
   "execution_count": 10,
   "metadata": {},
   "outputs": [
    {
     "name": "stdout",
     "output_type": "stream",
     "text": [
      "1 1\n",
      "1 2\n",
      "1 3\n",
      "2 1\n",
      "2 2\n",
      "2 3\n",
      "3 1\n",
      "3 2\n",
      "3 3\n"
     ]
    }
   ],
   "source": [
    "# Nested For Loop\n",
    "\n",
    "for i in range(1,4):\n",
    "    for j in range(1,4):\n",
    "        print(i, j)"
   ]
  },
  {
   "cell_type": "code",
   "execution_count": 11,
   "metadata": {},
   "outputs": [
    {
     "name": "stdout",
     "output_type": "stream",
     "text": [
      "1 is not in list B\n",
      "2 is not in list B\n",
      "3 is not in list B\n",
      "4 is in list B\n",
      "5 is in list B\n"
     ]
    }
   ],
   "source": [
    "# Imagine, there are two lists. Now, check if elements from list A are avilable in list B or not.\n",
    "\n",
    "# Define the two lists\n",
    "list_A = [1, 2, 3, 4, 5]\n",
    "list_B = [4, 5, 6, 7, 8]\n",
    "\n",
    "# Check if elements from list_A are in list_B\n",
    "for element in list_A:\n",
    "    if element in list_B:\n",
    "        print(f\"{element} is in list B\")\n",
    "    else:\n",
    "        print(f\"{element} is not in list B\")\n"
   ]
  },
  {
   "cell_type": "code",
   "execution_count": 12,
   "metadata": {},
   "outputs": [
    {
     "name": "stdout",
     "output_type": "stream",
     "text": [
      "101 --- Alice\n",
      "102 --- Bob\n",
      "103 --- Charlie\n",
      "104 --- David\n"
     ]
    }
   ],
   "source": [
    "#Imagine, there are two lists containing student ids and student names. Print them in the following pattern:\n",
    "#ID --- Name\n",
    "\n",
    "# Define the two lists\n",
    "student_ids = [101, 102, 103, 104]\n",
    "student_names = [\"Alice\", \"Bob\", \"Charlie\", \"David\"]\n",
    "\n",
    "# Use zip to combine the two lists and print the result\n",
    "for student_id, student_name in zip(student_ids, student_names):\n",
    "    print(f\"{student_id} --- {student_name}\")\n",
    "\n"
   ]
  },
  {
   "cell_type": "code",
   "execution_count": 13,
   "metadata": {},
   "outputs": [
    {
     "name": "stdout",
     "output_type": "stream",
     "text": [
      "Current Letter:  H\n",
      "Current Letter:  e\n",
      "Current Letter:  l\n",
      "Current Letter:  l\n",
      "Current Letter:  o\n",
      "Current Letter:  W\n",
      "Current Letter:  o\n",
      "Current Letter:  r\n",
      "Current Letter:  l\n",
      "Current Letter:  d\n",
      "Odd 1\n",
      "Odd 3\n",
      "Odd 5\n",
      "Odd 7\n",
      "Odd 9\n"
     ]
    }
   ],
   "source": [
    "# Continue Statement\n",
    "\n",
    "for letter in 'HelloWorld':\n",
    "\n",
    "    if letter=='0' or letter=='w':\n",
    "        continue\n",
    "    print('Current Letter: ', letter)\n",
    "\n",
    "for i in range(0, 10):\n",
    "    if i%2==0:\n",
    "        continue\n",
    "    else:\n",
    "        print(\"Odd\", i)"
   ]
  },
  {
   "cell_type": "code",
   "execution_count": 14,
   "metadata": {},
   "outputs": [
    {
     "name": "stdout",
     "output_type": "stream",
     "text": [
      "0\n",
      "1\n",
      "2\n",
      "3\n",
      "4\n"
     ]
    }
   ],
   "source": [
    "# break\n",
    "\n",
    "for i in range(0, 10):\n",
    "\n",
    "    if i==5:\n",
    "        break\n",
    "    else:\n",
    "        print(i)"
   ]
  },
  {
   "cell_type": "code",
   "execution_count": 15,
   "metadata": {},
   "outputs": [
    {
     "name": "stdout",
     "output_type": "stream",
     "text": [
      "Hello Greek\n",
      "Hello Greek\n",
      "Hello Greek\n"
     ]
    }
   ],
   "source": [
    "# While loop\n",
    "# Python program to illustrate\n",
    "# While loop\n",
    "\n",
    "count=0\n",
    "\n",
    "while(count<3):\n",
    "    count=count+1\n",
    "    print(\"Hello Greek\")"
   ]
  },
  {
   "cell_type": "code",
   "execution_count": 16,
   "metadata": {},
   "outputs": [
    {
     "name": "stdout",
     "output_type": "stream",
     "text": [
      "Hello,mahfuj!\n"
     ]
    }
   ],
   "source": [
    "# Python Function\n",
    "\n",
    "def greet(name):\n",
    "    message=f\"Hello,{name}!\"\n",
    "    return message\n",
    "name=greet(\"mahfuj\")\n",
    "print(name)"
   ]
  },
  {
   "cell_type": "code",
   "execution_count": 17,
   "metadata": {},
   "outputs": [
    {
     "name": "stdout",
     "output_type": "stream",
     "text": [
      "ID before passing: 140721207319256\n",
      "ID inside the function: 140721207319256\n",
      "new object after increment 11 140721207319288\n",
      "Value after function call 10\n"
     ]
    }
   ],
   "source": [
    "# Pass by Reference\n",
    "\n",
    "def testfunction(arg):\n",
    "    print(\"ID inside the function:\", id(arg))\n",
    "    arg=arg+1\n",
    "    print(\"new object after increment\", arg, id(arg))\n",
    "\n",
    "var=10\n",
    "print(\"ID before passing:\", id(var))\n",
    "testfunction(var)\n",
    "print(\"Value after function call\", var)"
   ]
  },
  {
   "cell_type": "code",
   "execution_count": 18,
   "metadata": {},
   "outputs": [
    {
     "name": "stdout",
     "output_type": "stream",
     "text": [
      "Name: Naveen\n",
      "Age: 29\n",
      "Name: miki\n",
      "Age: 30\n"
     ]
    }
   ],
   "source": [
    "# Keyword arguments\n",
    "\n",
    "#Function definition is here\n",
    "\n",
    "def printinfo(name, age):\n",
    "    print(\"Name:\", name)\n",
    "    print(\"Age:\", age)\n",
    "    return\n",
    "printinfo(\"Naveen\", 29)\n",
    "\n",
    "# by keyword arguments\n",
    "printinfo(name=\"miki\", age=30)"
   ]
  },
  {
   "cell_type": "code",
   "execution_count": 19,
   "metadata": {},
   "outputs": [
    {
     "name": "stdout",
     "output_type": "stream",
     "text": [
      "Before ['john', 'marry', 'rock']\n",
      "Rock\n",
      "After ['john', 'marry']\n"
     ]
    }
   ],
   "source": [
    "# Passing List in Function\n",
    "\n",
    "def list_mod(my_list):\n",
    "\n",
    "    current_item=my_list.pop()\n",
    "    print(current_item.title())\n",
    "\n",
    "one_list=['john','marry','rock']\n",
    "print(\"Before\", one_list)\n",
    "list_mod(one_list)\n",
    "print(\"After\", one_list)"
   ]
  },
  {
   "cell_type": "code",
   "execution_count": 20,
   "metadata": {},
   "outputs": [
    {
     "name": "stdout",
     "output_type": "stream",
     "text": [
      "Before ['john', 'marry', 'rock']\n",
      "Rock\n",
      "After ['john', 'marry', 'rock']\n"
     ]
    }
   ],
   "source": [
    "# Passing List in Function\n",
    "\n",
    "def list_mod(my_list):\n",
    "\n",
    "    current_item=my_list.pop()\n",
    "    print(current_item.title())\n",
    "\n",
    "one_list=['john','marry','rock']\n",
    "print(\"Before\", one_list)\n",
    "list_mod(one_list[:])\n",
    "print(\"After\", one_list)"
   ]
  },
  {
   "cell_type": "code",
   "execution_count": 21,
   "metadata": {},
   "outputs": [
    {
     "name": "stdout",
     "output_type": "stream",
     "text": [
      "This one works too\n"
     ]
    }
   ],
   "source": [
    "# Default Parameter and Styling Function\n",
    "\n",
    "def func(\n",
    "    param1, param2=\"Okay\",\n",
    "    param3=\"Default\", param4=\"\"):\n",
    "\n",
    "    print(\"This one works too\")\n",
    "\n",
    "func(\"Mahfuj\")"
   ]
  },
  {
   "cell_type": "code",
   "execution_count": 22,
   "metadata": {},
   "outputs": [
    {
     "name": "stdout",
     "output_type": "stream",
     "text": [
      "Variable before passing: 10\n",
      "Value after function call 11\n"
     ]
    }
   ],
   "source": [
    "# Golobal Variable\n",
    "\n",
    "def testfunction(arg):\n",
    "\n",
    "    global var\n",
    "    var +=1\n",
    "\n",
    "var=10\n",
    "print(\"Variable before passing:\", var)\n",
    "testfunction(var)\n",
    "print(\"Value after function call\", var)"
   ]
  },
  {
   "cell_type": "code",
   "execution_count": null,
   "metadata": {},
   "outputs": [],
   "source": []
  },
  {
   "cell_type": "code",
   "execution_count": null,
   "metadata": {},
   "outputs": [],
   "source": []
  },
  {
   "cell_type": "code",
   "execution_count": null,
   "metadata": {},
   "outputs": [],
   "source": []
  },
  {
   "cell_type": "code",
   "execution_count": null,
   "metadata": {},
   "outputs": [],
   "source": []
  }
 ],
 "metadata": {
  "kernelspec": {
   "display_name": "Python 3",
   "language": "python",
   "name": "python3"
  },
  "language_info": {
   "codemirror_mode": {
    "name": "ipython",
    "version": 3
   },
   "file_extension": ".py",
   "mimetype": "text/x-python",
   "name": "python",
   "nbconvert_exporter": "python",
   "pygments_lexer": "ipython3",
   "version": "3.12.3"
  }
 },
 "nbformat": 4,
 "nbformat_minor": 2
}
